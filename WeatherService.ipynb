{
 "cells": [
  {
   "cell_type": "code",
   "execution_count": 2,
   "metadata": {},
   "outputs": [
    {
     "name": "stdout",
     "output_type": "stream",
     "text": [
      "Searching.......\n",
      "\n",
      "Meteo\n",
      "Giorno e Ora: martedì 14:00\n",
      "Condizioni Meteo: Nuvoloso\n",
      "Temperatura: 6C\n",
      "Precipitazioni: 0%\n",
      "Tasso di Umiditá: 88%\n",
      "Vento: 8 km/h\n"
     ]
    }
   ],
   "source": [
    "from bs4 import BeautifulSoup\n",
    "import requests\n",
    "\n",
    "headers = {'User-Agent':'Mozilla/5.0 (Windows NT 10.0; Win64; x64) AppleWebKit/537.36 (KHTML, like Gecko) Chrome/118.0.0.0 Safari/537.36 Edg/118.0.2088.57'}\n",
    "\n",
    "def weather(city):\n",
    "    city = city.replace(\" \",\"+\")\n",
    "    res = requests.get(f'https://www.google.com/search?q=weather+in+{city}',headers=headers)\n",
    "    print(\"Searching.......\\n\")\n",
    "    soup = BeautifulSoup(res.text,'html.parser')\n",
    "    location = soup.select('#wob_loc')[0].getText().strip()\n",
    "    time = soup.select('#wob_dts')[0].getText().strip()\n",
    "    info = soup.select('#wob_dc')[0].getText().strip()\n",
    "    weather = soup.select('#wob_tm')[0].getText().strip()\n",
    "    precipitation = soup.select('#wob_pp')[0].getText().strip()\n",
    "    humidity = soup.select('#wob_hm')[0].getText().strip()\n",
    "    wind = soup.select('#wob_ws')[0].getText().strip()\n",
    "    print(location)\n",
    "    print(\"Giorno e Ora:\",time)\n",
    "    print(\"Condizioni Meteo:\",info)\n",
    "    print(\"Temperatura:\",weather + \"C\")\n",
    "    print(\"Precipitazioni:\",precipitation)\n",
    "    print(\"Tasso di Umiditá:\",humidity)\n",
    "    print(\"Vento:\",wind)\n",
    "\n",
    "city = input(\"Enter the name of any city >> \")\n",
    "city = city + \"weather\"\n",
    "weather(city)"
   ]
  }
 ],
 "metadata": {
  "kernelspec": {
   "display_name": "base",
   "language": "python",
   "name": "python3"
  },
  "language_info": {
   "codemirror_mode": {
    "name": "ipython",
    "version": 3
   },
   "file_extension": ".py",
   "mimetype": "text/x-python",
   "name": "python",
   "nbconvert_exporter": "python",
   "pygments_lexer": "ipython3",
   "version": "3.10.9"
  }
 },
 "nbformat": 4,
 "nbformat_minor": 2
}
