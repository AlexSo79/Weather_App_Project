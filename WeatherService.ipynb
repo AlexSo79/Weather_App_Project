{
 "cells": [
  {
   "cell_type": "code",
   "execution_count": 1,
   "metadata": {},
   "outputs": [],
   "source": [
    "from bs4 import BeautifulSoup\n",
    "import requests"
   ]
  },
  {
   "cell_type": "code",
   "execution_count": 2,
   "metadata": {},
   "outputs": [],
   "source": [
    "headers = {'User-Agent':'Mozilla/5.0 (Windows NT 10.0; Win64; x64) AppleWebKit/537.36 (KHTML, like Gecko) Chrome/118.0.0.0 Safari/537.36 Edg/118.0.2088.57'}"
   ]
  },
  {
   "cell_type": "code",
   "execution_count": 3,
   "metadata": {},
   "outputs": [],
   "source": [
    "def weather(city):\n",
    "    city = city.replace(\" \",\"+\")\n",
    "    res = requests.get(f'https://www.google.com/search?q=weather+in+{city}',headers=headers)\n",
    "    print(\"Searching.......\\n\")\n",
    "    soup = BeautifulSoup(res.text,'html.parser')\n",
    "    location = soup.select('#wob_loc')[0].getText().strip()\n",
    "    time = soup.select('#wob_dts')[0].getText().strip()\n",
    "    info = soup.select('#wob_dc')[0].getText().strip()\n",
    "    weather = soup.select('#wob_tm')[0].getText().strip()\n",
    "    precipitation = soup.select('#wob_pp')[0].getText().strip()\n",
    "    humidity = soup.select('#wob_hm')[0].getText().strip()\n",
    "    wind = soup.select('#wob_ws')[0].getText().strip()\n",
    "    print(location)\n",
    "    print(\"Giorno e Ora:\",time)\n",
    "    print(\"Condizioni Meteo:\",info)\n",
    "    print(\"Temperatura:\",weather + \"C\")\n",
    "    print(\"Precipitazioni:\",precipitation)\n",
    "    print(\"Tasso di Umiditá:\",humidity)\n",
    "    print(\"Vento:\",wind)"
   ]
  },
  {
   "cell_type": "code",
   "execution_count": 4,
   "metadata": {},
   "outputs": [
    {
     "name": "stdout",
     "output_type": "stream",
     "text": [
      "Searching.......\n",
      "\n",
      "Meteo\n",
      "Giorno e Ora: lunedì 16:00\n",
      "Condizioni Meteo: Per lo più nuvoloso\n",
      "Temperatura: 15C\n",
      "Precipitazioni: 97%\n",
      "Tasso di Umiditá: 81%\n",
      "Vento: 21 km/h\n"
     ]
    }
   ],
   "source": [
    "city = input(\"Enter the name of any city >> \")\n",
    "city = city + \"weather\"\n",
    "weather(city)"
   ]
  }
 ],
 "metadata": {
  "kernelspec": {
   "display_name": "base",
   "language": "python",
   "name": "python3"
  },
  "language_info": {
   "codemirror_mode": {
    "name": "ipython",
    "version": 3
   },
   "file_extension": ".py",
   "mimetype": "text/x-python",
   "name": "python",
   "nbconvert_exporter": "python",
   "pygments_lexer": "ipython3",
   "version": "3.10.9"
  }
 },
 "nbformat": 4,
 "nbformat_minor": 2
}
